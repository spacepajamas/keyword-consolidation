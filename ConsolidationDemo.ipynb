{
  "cells": [
    {
      "attachments": {},
      "cell_type": "markdown",
      "metadata": {
        "id": "VaNjQK644GKR"
      },
      "source": [
        "<!DOCTYPE html>\n",
        "<html>\n",
        "<head>\n",
        "</head>\n",
        "<body>\n",
        "    <h1>Welcome to SwissText 2023 Keyword Consolidation Workshop</h1>\n",
        "    <h2>Hands-On Session: Exploring Keyword Consolidation Techniques</h2>\n",
        "    <p>In this hands-on session, we will have access to a corpus and get the opportunity to try out keyword consolidation techniques ourselves.</p>\n",
        "</body>\n",
        "</html>\n"
      ]
    },
    {
      "attachments": {},
      "cell_type": "markdown",
      "metadata": {
        "id": "LJbco4GIOOyh"
      },
      "source": [
        "# Download data from Google Drive\n",
        "\n",
        "(Optional create a new directory)\n",
        "\n"
      ]
    },
    {
      "cell_type": "code",
      "execution_count": 2,
      "metadata": {},
      "outputs": [],
      "source": [
        "mkdir sw23_condildation_workshop_demo "
      ]
    },
    {
      "cell_type": "code",
      "execution_count": 3,
      "metadata": {},
      "outputs": [
        {
          "name": "stdout",
          "output_type": "stream",
          "text": [
            "/tests/sw23_condildation_workshop_demo\n"
          ]
        }
      ],
      "source": [
        "cd sw23_condildation_workshop_demo"
      ]
    },
    {
      "attachments": {},
      "cell_type": "markdown",
      "metadata": {},
      "source": [
        "# Install libraries"
      ]
    },
    {
      "attachments": {},
      "cell_type": "markdown",
      "metadata": {},
      "source": [
        "## Download items from Google Drive"
      ]
    },
    {
      "cell_type": "code",
      "execution_count": 4,
      "metadata": {},
      "outputs": [
        {
          "name": "stdout",
          "output_type": "stream",
          "text": [
            "Requirement already satisfied: gdown in nzzExp/lib/python3.9/site-packages (4.4.0)\n",
            "Requirement already satisfied: filelock in nzzExp/lib/python3.9/site-packages (from gdown) (3.10.0)\n",
            "Requirement already satisfied: requests[socks] in nzzExp/lib/python3.9/site-packages (from gdown) (2.28.2)\n",
            "Requirement already satisfied: six in nzzExp/lib/python3.9/site-packages (from gdown) (1.16.0)\n",
            "Requirement already satisfied: tqdm in nzzExp/lib/python3.9/site-packages (from gdown) (4.64.1)\n",
            "Requirement already satisfied: beautifulsoup4 in nzzExp/lib/python3.9/site-packages (from gdown) (4.11.2)\n",
            "Requirement already satisfied: soupsieve>1.2 in nzzExp/lib/python3.9/site-packages (from beautifulsoup4->gdown) (2.3.2.post1)\n",
            "Requirement already satisfied: charset-normalizer<4,>=2 in nzzExp/lib/python3.9/site-packages (from requests[socks]->gdown) (3.0.1)\n",
            "Requirement already satisfied: idna<4,>=2.5 in nzzExp/lib/python3.9/site-packages (from requests[socks]->gdown) (3.4)\n",
            "Requirement already satisfied: urllib3<1.27,>=1.21.1 in nzzExp/lib/python3.9/site-packages (from requests[socks]->gdown) (1.26.14)\n",
            "Requirement already satisfied: certifi>=2017.4.17 in nzzExp/lib/python3.9/site-packages (from requests[socks]->gdown) (2022.12.7)\n",
            "Requirement already satisfied: PySocks!=1.5.7,>=1.5.6 in nzzExp/lib/python3.9/site-packages (from requests[socks]->gdown) (1.7.1)\n"
          ]
        }
      ],
      "source": [
        "!pip install gdown"
      ]
    },
    {
      "attachments": {},
      "cell_type": "markdown",
      "metadata": {},
      "source": [
        "## ML and data analysis"
      ]
    },
    {
      "cell_type": "code",
      "execution_count": 5,
      "metadata": {},
      "outputs": [
        {
          "name": "stdout",
          "output_type": "stream",
          "text": [
            "Requirement already satisfied: pandas in nzzExp/lib/python3.9/site-packages (1.5.3)\n",
            "Requirement already satisfied: scikit-learn in nzzExp/lib/python3.9/site-packages (1.2.1)\n",
            "Requirement already satisfied: python-dateutil>=2.8.1 in nzzExp/lib/python3.9/site-packages (from pandas) (2.8.2)\n",
            "Requirement already satisfied: pytz>=2020.1 in nzzExp/lib/python3.9/site-packages (from pandas) (2022.7.1)\n",
            "Requirement already satisfied: numpy>=1.20.3 in nzzExp/lib/python3.9/site-packages (from pandas) (1.24.2)\n",
            "Requirement already satisfied: scipy>=1.3.2 in nzzExp/lib/python3.9/site-packages (from scikit-learn) (1.10.1)\n",
            "Requirement already satisfied: joblib>=1.1.1 in nzzExp/lib/python3.9/site-packages (from scikit-learn) (1.2.0)\n",
            "Requirement already satisfied: threadpoolctl>=2.0.0 in nzzExp/lib/python3.9/site-packages (from scikit-learn) (3.1.0)\n",
            "Requirement already satisfied: six>=1.5 in nzzExp/lib/python3.9/site-packages (from python-dateutil>=2.8.1->pandas) (1.16.0)\n"
          ]
        }
      ],
      "source": [
        "!pip install pandas scikit-learn"
      ]
    },
    {
      "attachments": {},
      "cell_type": "markdown",
      "metadata": {},
      "source": [
        "## Optional: string similarity"
      ]
    },
    {
      "cell_type": "code",
      "execution_count": 7,
      "metadata": {},
      "outputs": [
        {
          "name": "stdout",
          "output_type": "stream",
          "text": [
            "Requirement already satisfied: thefuzz in nzzExp/lib/python3.9/site-packages (0.19.0)\n"
          ]
        }
      ],
      "source": [
        "!pip install thefuzz"
      ]
    },
    {
      "attachments": {},
      "cell_type": "markdown",
      "metadata": {
        "id": "eK5tOFF0CQBz"
      },
      "source": [
        "# Download Corpus"
      ]
    },
    {
      "cell_type": "code",
      "execution_count": 8,
      "metadata": {
        "id": "naWr-MSAZtYk"
      },
      "outputs": [],
      "source": [
        "import gdown"
      ]
    },
    {
      "cell_type": "code",
      "execution_count": 9,
      "metadata": {
        "colab": {
          "base_uri": "https://localhost:8080/"
        },
        "id": "3sP5kjPPbSxy",
        "outputId": "51d368d3-10c1-4f65-e7b5-2862061997f5"
      },
      "outputs": [
        {
          "name": "stderr",
          "output_type": "stream",
          "text": [
            "Retrieving folder list\n"
          ]
        },
        {
          "name": "stdout",
          "output_type": "stream",
          "text": [
            "Processing file 1r_A8L9xwKoqoZABFvcG8bEAFvJa0e7x0 corpus_small.json\n",
            "Building directory structure completed\n"
          ]
        },
        {
          "name": "stderr",
          "output_type": "stream",
          "text": [
            "Retrieving folder list completed\n",
            "Building directory structure\n",
            "Downloading...\n",
            "From: https://drive.google.com/uc?id=1r_A8L9xwKoqoZABFvcG8bEAFvJa0e7x0\n",
            "To: /tests/sw23_condildation_workshop_demo/corpus_small.json\n",
            "100%|██████████| 16.2M/16.2M [00:00<00:00, 24.2MB/s]\n",
            "Download completed\n"
          ]
        },
        {
          "data": {
            "text/plain": [
              "['/tests/sw23_condildation_workshop_demo/corpus_small.json']"
            ]
          },
          "execution_count": 9,
          "metadata": {},
          "output_type": "execute_result"
        }
      ],
      "source": [
        "corpus_link_small ='https://drive.google.com/drive/folders/1n637wYJTyxFqVMDVrLTsVxa9-7cFvmcc?usp=drive_link' # path to workshop data\n",
        "\n",
        "gdown.download_folder(corpus_link_small, quiet=False)\n"
      ]
    },
    {
      "cell_type": "code",
      "execution_count": 11,
      "metadata": {
        "id": "dqgK9Tps2uoc"
      },
      "outputs": [
        {
          "name": "stderr",
          "output_type": "stream",
          "text": [
            "Retrieving folder list\n"
          ]
        },
        {
          "name": "stdout",
          "output_type": "stream",
          "text": [
            "Processing file 196P0OZVys57BRxF5vfpagImqFxYiNwgp corpus_medium.json\n",
            "Building directory structure completed\n"
          ]
        },
        {
          "name": "stderr",
          "output_type": "stream",
          "text": [
            "Retrieving folder list completed\n",
            "Building directory structure\n"
          ]
        },
        {
          "name": "stdout",
          "output_type": "stream",
          "text": [
            "Access denied with the following error:\n"
          ]
        },
        {
          "name": "stderr",
          "output_type": "stream",
          "text": [
            "\n",
            " \tCannot retrieve the public link of the file. You may need to change\n",
            "\tthe permission to 'Anyone with the link', or have had many accesses. \n",
            "\n",
            "You may still be able to access the file from the browser:\n",
            "\n",
            "\t https://drive.google.com/uc?id=196P0OZVys57BRxF5vfpagImqFxYiNwgp \n",
            "\n",
            "Download ended unsuccessfully\n"
          ]
        }
      ],
      "source": [
        "\n",
        "corpus_link_medium ='https://drive.google.com/drive/folders/1BpDSrVithfJfO0-bEFCrzXDLkDlXNkz_?usp=drive_link'  # path to workshop data\n",
        "\n",
        "gdown.download_folder(corpus_link_medium, quiet=False)"
      ]
    },
    {
      "cell_type": "code",
      "execution_count": 12,
      "metadata": {
        "colab": {
          "base_uri": "https://localhost:8080/"
        },
        "id": "1O9ox9CUMD_l",
        "outputId": "6926f870-f82f-40c4-ba65-b30cfd2990ec"
      },
      "outputs": [
        {
          "name": "stdout",
          "output_type": "stream",
          "text": [
            "corpus_small.json\n"
          ]
        }
      ],
      "source": [
        "ls "
      ]
    },
    {
      "attachments": {},
      "cell_type": "markdown",
      "metadata": {
        "id": "ghoaoe3qMUuY"
      },
      "source": [
        "## Load corpus\n",
        "\n",
        "The corpus is a JSON file, we are using the pandas libry to open it."
      ]
    },
    {
      "cell_type": "code",
      "execution_count": 13,
      "metadata": {
        "id": "wBWeZlnRZ25S"
      },
      "outputs": [],
      "source": [
        "import pandas as pd\n"
      ]
    },
    {
      "cell_type": "code",
      "execution_count": 15,
      "metadata": {
        "colab": {
          "base_uri": "https://localhost:8080/"
        },
        "id": "sZeObvBYIblw",
        "outputId": "b2b390c4-9896-43cd-8bf5-e3836f648781"
      },
      "outputs": [
        {
          "name": "stdout",
          "output_type": "stream",
          "text": [
            "(1294, 12)\n"
          ]
        }
      ],
      "source": [
        "corpus_df = pd.read_json('corpus_small.json')\n",
        "#corpus_df = pd.read_json('medium/corpus_medium.json')\n",
        "print(corpus_df.shape)"
      ]
    },
    {
      "attachments": {},
      "cell_type": "markdown",
      "metadata": {
        "id": "KalKHXIu4FdS"
      },
      "source": []
    },
    {
      "attachments": {},
      "cell_type": "markdown",
      "metadata": {
        "id": "4MRDVT8CM8Oy"
      },
      "source": [
        "## Preview corpus"
      ]
    },
    {
      "cell_type": "code",
      "execution_count": 16,
      "metadata": {
        "colab": {
          "base_uri": "https://localhost:8080/",
          "height": 815
        },
        "id": "NtKc-VPCKUxQ",
        "outputId": "2fd8862a-7f98-413a-9b62-b4be9efa820a"
      },
      "outputs": [
        {
          "data": {
            "text/html": [
              "<div>\n",
              "<style scoped>\n",
              "    .dataframe tbody tr th:only-of-type {\n",
              "        vertical-align: middle;\n",
              "    }\n",
              "\n",
              "    .dataframe tbody tr th {\n",
              "        vertical-align: top;\n",
              "    }\n",
              "\n",
              "    .dataframe thead th {\n",
              "        text-align: right;\n",
              "    }\n",
              "</style>\n",
              "<table border=\"1\" class=\"dataframe\">\n",
              "  <thead>\n",
              "    <tr style=\"text-align: right;\">\n",
              "      <th></th>\n",
              "      <th>title</th>\n",
              "      <th>intro</th>\n",
              "      <th>intro_len_char</th>\n",
              "      <th>intro_len_token</th>\n",
              "      <th>body</th>\n",
              "      <th>body_len_char</th>\n",
              "      <th>body_len_token</th>\n",
              "      <th>gold_kws</th>\n",
              "      <th>num_kws_lemmas</th>\n",
              "      <th>num_kws_all</th>\n",
              "      <th>noisy_kws</th>\n",
              "      <th>num_noisy_kws</th>\n",
              "    </tr>\n",
              "  </thead>\n",
              "  <tbody>\n",
              "    <tr>\n",
              "      <th>153790</th>\n",
              "      <td>Vereinigte Schweizerbahnen</td>\n",
              "      <td>Ohne Zwischenstationen und ohne Anschlussbahne...</td>\n",
              "      <td>439</td>\n",
              "      <td>64</td>\n",
              "      <td>Die Vereinigten Schweizerbahnen entstanden am ...</td>\n",
              "      <td>12668</td>\n",
              "      <td>2073</td>\n",
              "      <td>{'Schweiz': {'Schweiz': 2}, '1902': {'1902': 8...</td>\n",
              "      <td>41</td>\n",
              "      <td>41</td>\n",
              "      <td>[VSB, Vereinigten Schweizerbahnen, V.S.B, Schw...</td>\n",
              "      <td>44</td>\n",
              "    </tr>\n",
              "    <tr>\n",
              "      <th>153988</th>\n",
              "      <td>Vierte Gewalt</td>\n",
              "      <td>Vierte Gewalt zur Macht­kon­trolle der drei St...</td>\n",
              "      <td>602</td>\n",
              "      <td>89</td>\n",
              "      <td>Die Medien sind systemtheoretisch das „Beobach...</td>\n",
              "      <td>7460</td>\n",
              "      <td>1138</td>\n",
              "      <td>{'Massenmedien': {'Massenmedien': 4}, 'Presse ...</td>\n",
              "      <td>18</td>\n",
              "      <td>18</td>\n",
              "      <td>[die Vierte Gewalt, Massenmedien, Presse (Medi...</td>\n",
              "      <td>19</td>\n",
              "    </tr>\n",
              "    <tr>\n",
              "      <th>114190</th>\n",
              "      <td>Personalgutachterausschuss</td>\n",
              "      <td>Der Personalgutachterausschuss war ein Gremium...</td>\n",
              "      <td>1326</td>\n",
              "      <td>205</td>\n",
              "      <td>§ 1 (1) Der Personalgutachterausschuss hat die...</td>\n",
              "      <td>12133</td>\n",
              "      <td>1824</td>\n",
              "      <td>{'Oberst': {'Oberst': 11}, 'Bundeswehr': {'Bun...</td>\n",
              "      <td>18</td>\n",
              "      <td>18</td>\n",
              "      <td>[Bonn, Oberst, Bundeswehr, Bundesregierung (De...</td>\n",
              "      <td>19</td>\n",
              "    </tr>\n",
              "    <tr>\n",
              "      <th>23113</th>\n",
              "      <td>Carl Zeiss (Unternehmen)</td>\n",
              "      <td>Die Carl Zeiss AG ist ein Unternehmen der fein...</td>\n",
              "      <td>701</td>\n",
              "      <td>119</td>\n",
              "      <td>Werkstätten in der Neugasse (1846–1847), in de...</td>\n",
              "      <td>23256</td>\n",
              "      <td>3609</td>\n",
              "      <td>{'Unternehmen': {'Unternehmen': 19}, 'Feinmech...</td>\n",
              "      <td>46</td>\n",
              "      <td>47</td>\n",
              "      <td>[Carl Zeiss AG, ZEISS, Oberkochen, Jena, Aalen...</td>\n",
              "      <td>69</td>\n",
              "    </tr>\n",
              "    <tr>\n",
              "      <th>103030</th>\n",
              "      <td>Metro Prystai</td>\n",
              "      <td>Dmytro „Metro“ Prystai (; * 7. November 1927 i...</td>\n",
              "      <td>628</td>\n",
              "      <td>113</td>\n",
              "      <td>Prystai, dessen Vorfahren aus dem ukrainischen...</td>\n",
              "      <td>5605</td>\n",
              "      <td>1076</td>\n",
              "      <td>{'Yorkton': {'Yorkton': 2}, 'Saskatchewan': {'...</td>\n",
              "      <td>30</td>\n",
              "      <td>32</td>\n",
              "      <td>[Dmytro „Metro“ Prystai, Yorkton, Saskatchewan...</td>\n",
              "      <td>34</td>\n",
              "    </tr>\n",
              "    <tr>\n",
              "      <th>...</th>\n",
              "      <td>...</td>\n",
              "      <td>...</td>\n",
              "      <td>...</td>\n",
              "      <td>...</td>\n",
              "      <td>...</td>\n",
              "      <td>...</td>\n",
              "      <td>...</td>\n",
              "      <td>...</td>\n",
              "      <td>...</td>\n",
              "      <td>...</td>\n",
              "      <td>...</td>\n",
              "      <td>...</td>\n",
              "    </tr>\n",
              "    <tr>\n",
              "      <th>59241</th>\n",
              "      <td>Ginestet</td>\n",
              "      <td>Ginestet ist eine französische Gemeinde mit Ei...</td>\n",
              "      <td>544</td>\n",
              "      <td>97</td>\n",
              "      <td>Ginestet liegt ca. acht km nordwestlich im Ein...</td>\n",
              "      <td>4500</td>\n",
              "      <td>797</td>\n",
              "      <td>{'Gemeinde (Frankreich)': {'Gemeinde': 12}, 'D...</td>\n",
              "      <td>11</td>\n",
              "      <td>11</td>\n",
              "      <td>[Ginestet, Dordogne, Nouvelle-Aquitaine, Aquit...</td>\n",
              "      <td>19</td>\n",
              "    </tr>\n",
              "    <tr>\n",
              "      <th>62404</th>\n",
              "      <td>Hainbuchen</td>\n",
              "      <td>Die Hainbuchen oder Weißbuchen (''Carpinus'') ...</td>\n",
              "      <td>510</td>\n",
              "      <td>82</td>\n",
              "      <td>Die Hainbuchen-Arten sind sommergrüne Bäume od...</td>\n",
              "      <td>7203</td>\n",
              "      <td>1314</td>\n",
              "      <td>{'Birkengewächse': {'Birkengewächse': 3}, 'Bau...</td>\n",
              "      <td>19</td>\n",
              "      <td>20</td>\n",
              "      <td>[Carpinus, Europa, Ostasien, Carpinus carolini...</td>\n",
              "      <td>27</td>\n",
              "    </tr>\n",
              "    <tr>\n",
              "      <th>101546</th>\n",
              "      <td>Maigret verliert eine Verehrerin</td>\n",
              "      <td>Maigret verliert eine Verehrerin (französisch:...</td>\n",
              "      <td>1291</td>\n",
              "      <td>220</td>\n",
              "      <td>Mairie in Bourg-la-Reine Der erste Herbstnebel...</td>\n",
              "      <td>12579</td>\n",
              "      <td>2141</td>\n",
              "      <td>{'Georges Simenon': {'Georges Simenon': 6}, 'M...</td>\n",
              "      <td>16</td>\n",
              "      <td>17</td>\n",
              "      <td>[Maigret verliert eine Verehrerin, Cécile est ...</td>\n",
              "      <td>25</td>\n",
              "    </tr>\n",
              "    <tr>\n",
              "      <th>111138</th>\n",
              "      <td>Obmannschaft Kienraching</td>\n",
              "      <td>Die Obmannschaft Kienraching ist ein alter Ver...</td>\n",
              "      <td>613</td>\n",
              "      <td>94</td>\n",
              "      <td>Kienraching ist ein knapp über 100 Einwohner z...</td>\n",
              "      <td>2504</td>\n",
              "      <td>409</td>\n",
              "      <td>{'Dorfen': {'Dorfen': 3}, 'Taufkirchen (Vils)'...</td>\n",
              "      <td>10</td>\n",
              "      <td>10</td>\n",
              "      <td>[Kienraching, Taufkirchen, Bayern-Landshut, Ku...</td>\n",
              "      <td>22</td>\n",
              "    </tr>\n",
              "    <tr>\n",
              "      <th>113942</th>\n",
              "      <td>Pentarchie (Europa)</td>\n",
              "      <td>Europäische Großmächte um 1840: Pentarchie ( f...</td>\n",
              "      <td>530</td>\n",
              "      <td>83</td>\n",
              "      <td>In der Folge des Österreichischen Erbfolgekrie...</td>\n",
              "      <td>8220</td>\n",
              "      <td>1217</td>\n",
              "      <td>{'Europa': {'Europa': 6}, 'Großmacht': {'Großm...</td>\n",
              "      <td>12</td>\n",
              "      <td>13</td>\n",
              "      <td>[Europa, Europäisches Konzert der Großmächte, ...</td>\n",
              "      <td>18</td>\n",
              "    </tr>\n",
              "  </tbody>\n",
              "</table>\n",
              "<p>1294 rows × 12 columns</p>\n",
              "</div>"
            ],
            "text/plain": [
              "                                   title  \\\n",
              "153790        Vereinigte Schweizerbahnen   \n",
              "153988                     Vierte Gewalt   \n",
              "114190        Personalgutachterausschuss   \n",
              "23113           Carl Zeiss (Unternehmen)   \n",
              "103030                     Metro Prystai   \n",
              "...                                  ...   \n",
              "59241                           Ginestet   \n",
              "62404                         Hainbuchen   \n",
              "101546  Maigret verliert eine Verehrerin   \n",
              "111138          Obmannschaft Kienraching   \n",
              "113942               Pentarchie (Europa)   \n",
              "\n",
              "                                                    intro  intro_len_char  \\\n",
              "153790  Ohne Zwischenstationen und ohne Anschlussbahne...             439   \n",
              "153988  Vierte Gewalt zur Macht­kon­trolle der drei St...             602   \n",
              "114190  Der Personalgutachterausschuss war ein Gremium...            1326   \n",
              "23113   Die Carl Zeiss AG ist ein Unternehmen der fein...             701   \n",
              "103030  Dmytro „Metro“ Prystai (; * 7. November 1927 i...             628   \n",
              "...                                                   ...             ...   \n",
              "59241   Ginestet ist eine französische Gemeinde mit Ei...             544   \n",
              "62404   Die Hainbuchen oder Weißbuchen (''Carpinus'') ...             510   \n",
              "101546  Maigret verliert eine Verehrerin (französisch:...            1291   \n",
              "111138  Die Obmannschaft Kienraching ist ein alter Ver...             613   \n",
              "113942  Europäische Großmächte um 1840: Pentarchie ( f...             530   \n",
              "\n",
              "        intro_len_token                                               body  \\\n",
              "153790               64  Die Vereinigten Schweizerbahnen entstanden am ...   \n",
              "153988               89  Die Medien sind systemtheoretisch das „Beobach...   \n",
              "114190              205  § 1 (1) Der Personalgutachterausschuss hat die...   \n",
              "23113               119  Werkstätten in der Neugasse (1846–1847), in de...   \n",
              "103030              113  Prystai, dessen Vorfahren aus dem ukrainischen...   \n",
              "...                 ...                                                ...   \n",
              "59241                97  Ginestet liegt ca. acht km nordwestlich im Ein...   \n",
              "62404                82  Die Hainbuchen-Arten sind sommergrüne Bäume od...   \n",
              "101546              220  Mairie in Bourg-la-Reine Der erste Herbstnebel...   \n",
              "111138               94  Kienraching ist ein knapp über 100 Einwohner z...   \n",
              "113942               83  In der Folge des Österreichischen Erbfolgekrie...   \n",
              "\n",
              "        body_len_char  body_len_token  \\\n",
              "153790          12668            2073   \n",
              "153988           7460            1138   \n",
              "114190          12133            1824   \n",
              "23113           23256            3609   \n",
              "103030           5605            1076   \n",
              "...               ...             ...   \n",
              "59241            4500             797   \n",
              "62404            7203            1314   \n",
              "101546          12579            2141   \n",
              "111138           2504             409   \n",
              "113942           8220            1217   \n",
              "\n",
              "                                                 gold_kws  num_kws_lemmas  \\\n",
              "153790  {'Schweiz': {'Schweiz': 2}, '1902': {'1902': 8...              41   \n",
              "153988  {'Massenmedien': {'Massenmedien': 4}, 'Presse ...              18   \n",
              "114190  {'Oberst': {'Oberst': 11}, 'Bundeswehr': {'Bun...              18   \n",
              "23113   {'Unternehmen': {'Unternehmen': 19}, 'Feinmech...              46   \n",
              "103030  {'Yorkton': {'Yorkton': 2}, 'Saskatchewan': {'...              30   \n",
              "...                                                   ...             ...   \n",
              "59241   {'Gemeinde (Frankreich)': {'Gemeinde': 12}, 'D...              11   \n",
              "62404   {'Birkengewächse': {'Birkengewächse': 3}, 'Bau...              19   \n",
              "101546  {'Georges Simenon': {'Georges Simenon': 6}, 'M...              16   \n",
              "111138  {'Dorfen': {'Dorfen': 3}, 'Taufkirchen (Vils)'...              10   \n",
              "113942  {'Europa': {'Europa': 6}, 'Großmacht': {'Großm...              12   \n",
              "\n",
              "        num_kws_all                                          noisy_kws  \\\n",
              "153790           41  [VSB, Vereinigten Schweizerbahnen, V.S.B, Schw...   \n",
              "153988           18  [die Vierte Gewalt, Massenmedien, Presse (Medi...   \n",
              "114190           18  [Bonn, Oberst, Bundeswehr, Bundesregierung (De...   \n",
              "23113            47  [Carl Zeiss AG, ZEISS, Oberkochen, Jena, Aalen...   \n",
              "103030           32  [Dmytro „Metro“ Prystai, Yorkton, Saskatchewan...   \n",
              "...             ...                                                ...   \n",
              "59241            11  [Ginestet, Dordogne, Nouvelle-Aquitaine, Aquit...   \n",
              "62404            20  [Carpinus, Europa, Ostasien, Carpinus carolini...   \n",
              "101546           17  [Maigret verliert eine Verehrerin, Cécile est ...   \n",
              "111138           10  [Kienraching, Taufkirchen, Bayern-Landshut, Ku...   \n",
              "113942           13  [Europa, Europäisches Konzert der Großmächte, ...   \n",
              "\n",
              "        num_noisy_kws  \n",
              "153790             44  \n",
              "153988             19  \n",
              "114190             19  \n",
              "23113              69  \n",
              "103030             34  \n",
              "...               ...  \n",
              "59241              19  \n",
              "62404              27  \n",
              "101546             25  \n",
              "111138             22  \n",
              "113942             18  \n",
              "\n",
              "[1294 rows x 12 columns]"
            ]
          },
          "execution_count": 16,
          "metadata": {},
          "output_type": "execute_result"
        }
      ],
      "source": [
        "corpus_df"
      ]
    },
    {
      "attachments": {},
      "cell_type": "markdown",
      "metadata": {
        "id": "C9uXOxBgM3s7"
      },
      "source": [
        "Single entry"
      ]
    },
    {
      "cell_type": "code",
      "execution_count": 17,
      "metadata": {
        "colab": {
          "base_uri": "https://localhost:8080/"
        },
        "id": "5VUKHLweLAWR",
        "outputId": "82ea4740-1293-45c6-bf94-ed483031c3c2"
      },
      "outputs": [
        {
          "data": {
            "text/plain": [
              "title                                     Vereinigte Schweizerbahnen\n",
              "intro              Ohne Zwischenstationen und ohne Anschlussbahne...\n",
              "intro_len_char                                                   439\n",
              "intro_len_token                                                   64\n",
              "body               Die Vereinigten Schweizerbahnen entstanden am ...\n",
              "body_len_char                                                  12668\n",
              "body_len_token                                                  2073\n",
              "gold_kws           {'Schweiz': {'Schweiz': 2}, '1902': {'1902': 8...\n",
              "num_kws_lemmas                                                    41\n",
              "num_kws_all                                                       41\n",
              "noisy_kws          [VSB, Vereinigten Schweizerbahnen, V.S.B, Schw...\n",
              "num_noisy_kws                                                     44\n",
              "Name: 153790, dtype: object"
            ]
          },
          "execution_count": 17,
          "metadata": {},
          "output_type": "execute_result"
        }
      ],
      "source": [
        "corpus_df.iloc[0]"
      ]
    },
    {
      "attachments": {},
      "cell_type": "markdown",
      "metadata": {
        "id": "2qgiSupaM0gl"
      },
      "source": [
        "Title"
      ]
    },
    {
      "cell_type": "code",
      "execution_count": 18,
      "metadata": {
        "colab": {
          "base_uri": "https://localhost:8080/",
          "height": 35
        },
        "id": "e6mvP0u9LQj8",
        "outputId": "ea420c9e-fcdd-45b3-b743-adf8eae38481"
      },
      "outputs": [
        {
          "data": {
            "text/plain": [
              "'Vereinigte Schweizerbahnen'"
            ]
          },
          "execution_count": 18,
          "metadata": {},
          "output_type": "execute_result"
        }
      ],
      "source": [
        "corpus_df.iloc[0].title"
      ]
    },
    {
      "attachments": {},
      "cell_type": "markdown",
      "metadata": {
        "id": "Cy8OVsSBMvAW"
      },
      "source": [
        " Gold standard keywords"
      ]
    },
    {
      "cell_type": "code",
      "execution_count": 19,
      "metadata": {
        "colab": {
          "base_uri": "https://localhost:8080/"
        },
        "id": "tArYW7C_KWOi",
        "outputId": "f0396a6c-10d7-4032-e394-7a624253d363"
      },
      "outputs": [
        {
          "data": {
            "text/plain": [
              "{'Schweiz': {'Schweiz': 2},\n",
              " '1902': {'1902': 8},\n",
              " 'Winterthur': {'Winterthur': 5},\n",
              " 'Wil SG': {'Wil': 3},\n",
              " 'St. Gallen': {'St. Gallen': 16},\n",
              " 'Rorschach': {'Rorschach': 17},\n",
              " 'Kanton St. Gallen': {'Kanton St. Gallen': 2},\n",
              " 'St. Margrethen': {'St. Margrethen': 5},\n",
              " 'Sargans': {'Sargans': 5},\n",
              " 'Chur': {'Chur': 6},\n",
              " 'Weesen': {'Weesen': 4},\n",
              " 'Bahnhof Ziegelbrücke': {'Ziegelbrücke': 4},\n",
              " 'Rapperswil SG': {'Rapperswil': 6},\n",
              " 'Glarus': {'Glarus': 2},\n",
              " 'Glatthalbahn': {'Glatthalbahn': 3},\n",
              " 'Wallisellen': {'Wallisellen': 4},\n",
              " 'Uster': {'Uster': 3},\n",
              " 'Zürich': {'Zürich': 6},\n",
              " 'Zürich Hauptbahnhof': {'Zürich': 6},\n",
              " 'Gotthardbahn': {'Gotthardbahn': 3},\n",
              " 'Romanshorn': {'Romanshorn': 3},\n",
              " 'Seelinie (Bahnstrecke)': {'Seelinie': 2},\n",
              " 'Konzession': {'Konzession': 2},\n",
              " 'Toggenburgerbahn': {'Toggenburgerbahn': 4},\n",
              " 'Zürichsee–Gotthardbahn': {'Zürichsee–Gotthardbahn': 2},\n",
              " 'Sankt Gallisch-Appenzellische Eisenbahn': {'SGAE': 3},\n",
              " 'Bahnstrecke Chur–Rorschach': {'Rorschach–St. Margrethen–Sargans–Chur': 2},\n",
              " 'Bahnstrecke Ziegelbrücke–Sargans': {'Sargans–Weesen–Ziegelbrücke': 2},\n",
              " 'Bahnstrecke Rapperswil–Ziegelbrücke': {'Ziegelbrücke–Rapperswil': 2},\n",
              " 'Näfels': {'Näfels': 2},\n",
              " 'Maschinenfabrik Esslingen': {'Esslingen': 3},\n",
              " 'Engerth-Lokomotive': {'Engerth': 5},\n",
              " 'Krauss-Maffei': {'Krauss': 3},\n",
              " 'Sächsische Maschinenfabrik': {'Hartmann': 3},\n",
              " 'Schweizerische Lokomotiv- und Maschinenfabrik': {'SLM': 3},\n",
              " 'Bad Ragaz': {'Ragaz': 2},\n",
              " 'Hauptwerkstätte': {'Hauptwerkstätte': 2},\n",
              " 'Glatt (Thur)': {'Glatt': 2},\n",
              " 'Uze': {'Uze': 2},\n",
              " 'Thur (Rhein)': {'Thur': 2},\n",
              " 'Goldach (Bodensee)': {'Goldach': 2}}"
            ]
          },
          "execution_count": 19,
          "metadata": {},
          "output_type": "execute_result"
        }
      ],
      "source": [
        "corpus_df.iloc[0].gold_kws"
      ]
    },
    {
      "attachments": {},
      "cell_type": "markdown",
      "metadata": {
        "id": "k7cloZOFSh9U"
      },
      "source": [
        "Noisy keywords"
      ]
    },
    {
      "cell_type": "code",
      "execution_count": 20,
      "metadata": {
        "colab": {
          "base_uri": "https://localhost:8080/"
        },
        "id": "_bZlQAFHLIVd",
        "outputId": "c4b9c484-52d4-46c2-af73-0d91f59979d5"
      },
      "outputs": [
        {
          "data": {
            "text/plain": [
              "['VSB',\n",
              " 'Vereinigten Schweizerbahnen',\n",
              " 'V.S.B',\n",
              " 'Schweiz',\n",
              " '1902',\n",
              " 'Winterthur',\n",
              " 'Wil SG',\n",
              " 'St. Gallen',\n",
              " 'Rorschach',\n",
              " 'Kanton St. Gallen',\n",
              " 'St. Margrethen',\n",
              " 'Sargans',\n",
              " 'Chur',\n",
              " 'Weesen',\n",
              " 'Bahnhof Ziegelbrücke',\n",
              " 'Rapperswil SG',\n",
              " 'Glarus',\n",
              " 'Glatthalbahn',\n",
              " 'Wallisellen',\n",
              " 'Uster',\n",
              " 'Zürich',\n",
              " 'Zürich Hauptbahnhof',\n",
              " 'Gotthardbahn',\n",
              " 'Romanshorn',\n",
              " 'Seelinie (Bahnstrecke)',\n",
              " 'Konzession',\n",
              " 'Toggenburgerbahn',\n",
              " 'Zürichsee–Gotthardbahn',\n",
              " 'Sankt Gallisch-Appenzellische Eisenbahn',\n",
              " 'Bahnstrecke Chur–Rorschach',\n",
              " 'Bahnstrecke Ziegelbrücke–Sargans',\n",
              " 'Bahnstrecke Rapperswil–Ziegelbrücke',\n",
              " 'Näfels',\n",
              " 'Maschinenfabrik Esslingen',\n",
              " 'Engerth-Lokomotive',\n",
              " 'Krauss-Maffei',\n",
              " 'Sächsische Maschinenfabrik',\n",
              " 'Schweizerische Lokomotiv- und Maschinenfabrik',\n",
              " 'Bad Ragaz',\n",
              " 'Hauptwerkstätte',\n",
              " 'Glatt (Thur)',\n",
              " 'Uze',\n",
              " 'Thur (Rhein)',\n",
              " 'Goldach (Bodensee)']"
            ]
          },
          "execution_count": 20,
          "metadata": {},
          "output_type": "execute_result"
        }
      ],
      "source": [
        "corpus_df.iloc[0].noisy_kws"
      ]
    },
    {
      "attachments": {},
      "cell_type": "markdown",
      "metadata": {
        "id": "l-cQgsaihB9Q"
      },
      "source": [
        "# Train and test data set"
      ]
    },
    {
      "cell_type": "code",
      "execution_count": 21,
      "metadata": {
        "id": "HLvp32BkLXWF"
      },
      "outputs": [],
      "source": [
        "from sklearn.model_selection import train_test_split\n",
        "\n",
        "train_df, test_df = train_test_split(corpus_df, test_size=0.2)"
      ]
    },
    {
      "cell_type": "code",
      "execution_count": 22,
      "metadata": {
        "colab": {
          "base_uri": "https://localhost:8080/"
        },
        "id": "Kfb_GyRbhzmU",
        "outputId": "fed3df01-a419-46b8-bfc9-1c5add199f99"
      },
      "outputs": [
        {
          "data": {
            "text/plain": [
              "((1035, 12), (259, 12))"
            ]
          },
          "execution_count": 22,
          "metadata": {},
          "output_type": "execute_result"
        }
      ],
      "source": [
        "train_df.shape, test_df.shape"
      ]
    },
    {
      "cell_type": "code",
      "execution_count": 23,
      "metadata": {
        "colab": {
          "base_uri": "https://localhost:8080/",
          "height": 728
        },
        "id": "5xO6Higbh9w0",
        "outputId": "efc22c50-5bea-4783-e996-bebcbe5fa55f"
      },
      "outputs": [
        {
          "data": {
            "text/html": [
              "<div>\n",
              "<style scoped>\n",
              "    .dataframe tbody tr th:only-of-type {\n",
              "        vertical-align: middle;\n",
              "    }\n",
              "\n",
              "    .dataframe tbody tr th {\n",
              "        vertical-align: top;\n",
              "    }\n",
              "\n",
              "    .dataframe thead th {\n",
              "        text-align: right;\n",
              "    }\n",
              "</style>\n",
              "<table border=\"1\" class=\"dataframe\">\n",
              "  <thead>\n",
              "    <tr style=\"text-align: right;\">\n",
              "      <th></th>\n",
              "      <th>title</th>\n",
              "      <th>intro</th>\n",
              "      <th>intro_len_char</th>\n",
              "      <th>intro_len_token</th>\n",
              "      <th>body</th>\n",
              "      <th>body_len_char</th>\n",
              "      <th>body_len_token</th>\n",
              "      <th>gold_kws</th>\n",
              "      <th>num_kws_lemmas</th>\n",
              "      <th>num_kws_all</th>\n",
              "      <th>noisy_kws</th>\n",
              "      <th>num_noisy_kws</th>\n",
              "    </tr>\n",
              "  </thead>\n",
              "  <tbody>\n",
              "    <tr>\n",
              "      <th>101869</th>\n",
              "      <td>MissionRespekt</td>\n",
              "      <td>MissionRespekt (ChZ) – Christliches Zeugnis in...</td>\n",
              "      <td>1611</td>\n",
              "      <td>244</td>\n",
              "      <td>Das Dokument ''Christliches Zeugnis in einer m...</td>\n",
              "      <td>16046</td>\n",
              "      <td>2483</td>\n",
              "      <td>{'World Evangelical Alliance': {'World Evangel...</td>\n",
              "      <td>17</td>\n",
              "      <td>17</td>\n",
              "      <td>[MissionRespekt, ChZ, Päpstlichen Rat für den ...</td>\n",
              "      <td>26</td>\n",
              "    </tr>\n",
              "    <tr>\n",
              "      <th>98960</th>\n",
              "      <td>Münchener Rück</td>\n",
              "      <td>Die Münchener Rückversicherungs-Gesellschaft A...</td>\n",
              "      <td>933</td>\n",
              "      <td>139</td>\n",
              "      <td>Das Hauptgebäude in der Königinstraße 107 ents...</td>\n",
              "      <td>10931</td>\n",
              "      <td>1703</td>\n",
              "      <td>{'München': {'München': 5}, 'Deutschland': {'D...</td>\n",
              "      <td>20</td>\n",
              "      <td>20</td>\n",
              "      <td>[Münchener Rückversicherungs-Gesellschaft Akti...</td>\n",
              "      <td>26</td>\n",
              "    </tr>\n",
              "    <tr>\n",
              "      <th>15832</th>\n",
              "      <td>Böhringen (Radolfzell)</td>\n",
              "      <td>Das Dorf Böhringen liegt nordwestlich des Unte...</td>\n",
              "      <td>408</td>\n",
              "      <td>62</td>\n",
              "      <td>Nördlich von Böhringen befindet sich der Böhri...</td>\n",
              "      <td>4111</td>\n",
              "      <td>757</td>\n",
              "      <td>{'Landkreis Konstanz': {'Landkreis Konstanz': ...</td>\n",
              "      <td>11</td>\n",
              "      <td>12</td>\n",
              "      <td>[Böhringen, Bodensees, Radolfzeller Aach, Rado...</td>\n",
              "      <td>18</td>\n",
              "    </tr>\n",
              "    <tr>\n",
              "      <th>50835</th>\n",
              "      <td>Forschungsinstitut für Industrietechnologie</td>\n",
              "      <td>ITRI-Hauptgebäude Gebäudekomplex von außen Das...</td>\n",
              "      <td>662</td>\n",
              "      <td>86</td>\n",
              "      <td>Anfang der 1970er Jahre realisierten die veran...</td>\n",
              "      <td>12312</td>\n",
              "      <td>1846</td>\n",
              "      <td>{'Hsinchu': {'Hsinchu': 3}, 'Integrierter Scha...</td>\n",
              "      <td>13</td>\n",
              "      <td>13</td>\n",
              "      <td>[Forschungsinstitut für Industrietechnologie o...</td>\n",
              "      <td>18</td>\n",
              "    </tr>\n",
              "    <tr>\n",
              "      <th>7381</th>\n",
              "      <td>Attentat auf Rafiq al-Hariri</td>\n",
              "      <td>Rafiq al-Hariri im Jahr 2001 Blick auf den Ort...</td>\n",
              "      <td>1113</td>\n",
              "      <td>171</td>\n",
              "      <td>Die Detonation ereignete sich im Innenstadtbez...</td>\n",
              "      <td>10334</td>\n",
              "      <td>1609</td>\n",
              "      <td>{'Libanon': {'Libanon': 10, 'libanesischen': 7...</td>\n",
              "      <td>11</td>\n",
              "      <td>12</td>\n",
              "      <td>[Rafiq al-Hariri, Hotel St. Georges, Hariris, ...</td>\n",
              "      <td>16</td>\n",
              "    </tr>\n",
              "    <tr>\n",
              "      <th>...</th>\n",
              "      <td>...</td>\n",
              "      <td>...</td>\n",
              "      <td>...</td>\n",
              "      <td>...</td>\n",
              "      <td>...</td>\n",
              "      <td>...</td>\n",
              "      <td>...</td>\n",
              "      <td>...</td>\n",
              "      <td>...</td>\n",
              "      <td>...</td>\n",
              "      <td>...</td>\n",
              "      <td>...</td>\n",
              "    </tr>\n",
              "    <tr>\n",
              "      <th>165492</th>\n",
              "      <td>Über den Begriff der Geschichte</td>\n",
              "      <td>Über den Begriff der Geschichte sind geschicht...</td>\n",
              "      <td>623</td>\n",
              "      <td>87</td>\n",
              "      <td>Die 18 Thesen ''Über den Begriff der Geschicht...</td>\n",
              "      <td>9338</td>\n",
              "      <td>1535</td>\n",
              "      <td>{'Walter Benjamin': {'Walter Benjamin': 7}, 'Z...</td>\n",
              "      <td>21</td>\n",
              "      <td>21</td>\n",
              "      <td>[Walter Benjamin, Hitler-Stalin-Paktes, Über d...</td>\n",
              "      <td>26</td>\n",
              "    </tr>\n",
              "    <tr>\n",
              "      <th>119798</th>\n",
              "      <td>Paare (Kurzfilmreihe)</td>\n",
              "      <td>Paare ist eine komödiantische Kurzfilmreihe, p...</td>\n",
              "      <td>371</td>\n",
              "      <td>62</td>\n",
              "      <td>Paare versuchen, Probleme in ihrer Beziehung i...</td>\n",
              "      <td>3150</td>\n",
              "      <td>566</td>\n",
              "      <td>{'Uwe Bohm': {'Uwe Bohm': 2}, 'Devid Striesow'...</td>\n",
              "      <td>15</td>\n",
              "      <td>15</td>\n",
              "      <td>[Paare, ARTE, Johann Buchholz, Tiphaine Donà, ...</td>\n",
              "      <td>19</td>\n",
              "    </tr>\n",
              "    <tr>\n",
              "      <th>17073</th>\n",
              "      <td>Burg Forchheim</td>\n",
              "      <td>Die Burg in Forchheim (auch Kaiserpfalz genann...</td>\n",
              "      <td>528</td>\n",
              "      <td>79</td>\n",
              "      <td>Vom 9. bis frühen 11. Jahrhundert existierte i...</td>\n",
              "      <td>6610</td>\n",
              "      <td>1001</td>\n",
              "      <td>{'Stadtburg': {'Stadtburg': 4}, 'Forchheim': {...</td>\n",
              "      <td>11</td>\n",
              "      <td>11</td>\n",
              "      <td>[Forchheim, Kaiserpfalz, Oberfranken, Mitteleu...</td>\n",
              "      <td>15</td>\n",
              "    </tr>\n",
              "    <tr>\n",
              "      <th>164245</th>\n",
              "      <td>Zyklon Nancy</td>\n",
              "      <td>Zyklon Nancy war der zweite in einer Serie von...</td>\n",
              "      <td>1235</td>\n",
              "      <td>188</td>\n",
              "      <td>Zugbahn von Nancy Zyklon Nancy entstand am 10....</td>\n",
              "      <td>8245</td>\n",
              "      <td>1293</td>\n",
              "      <td>{'Cookinseln': {'Cookinseln': 9}, 'Tiefdruckge...</td>\n",
              "      <td>17</td>\n",
              "      <td>17</td>\n",
              "      <td>[Nancy, Cookinseln, Olaf, Meena, World Meteoro...</td>\n",
              "      <td>22</td>\n",
              "    </tr>\n",
              "    <tr>\n",
              "      <th>8906</th>\n",
              "      <td>Anhaltische Gemäldegalerie Dessau</td>\n",
              "      <td>Schloss Georgium, 2006 Die Anhaltische Gemälde...</td>\n",
              "      <td>801</td>\n",
              "      <td>112</td>\n",
              "      <td>Innenansicht des Palais Reina, um 1930 Mit der...</td>\n",
              "      <td>7241</td>\n",
              "      <td>1131</td>\n",
              "      <td>{'Gemäldegalerie': {'Gemäldegalerie': 10}, 'He...</td>\n",
              "      <td>10</td>\n",
              "      <td>10</td>\n",
              "      <td>[Schloss Georgium, Gemäldegalerie Dessau, Dess...</td>\n",
              "      <td>17</td>\n",
              "    </tr>\n",
              "  </tbody>\n",
              "</table>\n",
              "<p>1035 rows × 12 columns</p>\n",
              "</div>"
            ],
            "text/plain": [
              "                                              title  \\\n",
              "101869                               MissionRespekt   \n",
              "98960                                Münchener Rück   \n",
              "15832                        Böhringen (Radolfzell)   \n",
              "50835   Forschungsinstitut für Industrietechnologie   \n",
              "7381                   Attentat auf Rafiq al-Hariri   \n",
              "...                                             ...   \n",
              "165492              Über den Begriff der Geschichte   \n",
              "119798                        Paare (Kurzfilmreihe)   \n",
              "17073                                Burg Forchheim   \n",
              "164245                                 Zyklon Nancy   \n",
              "8906              Anhaltische Gemäldegalerie Dessau   \n",
              "\n",
              "                                                    intro  intro_len_char  \\\n",
              "101869  MissionRespekt (ChZ) – Christliches Zeugnis in...            1611   \n",
              "98960   Die Münchener Rückversicherungs-Gesellschaft A...             933   \n",
              "15832   Das Dorf Böhringen liegt nordwestlich des Unte...             408   \n",
              "50835   ITRI-Hauptgebäude Gebäudekomplex von außen Das...             662   \n",
              "7381    Rafiq al-Hariri im Jahr 2001 Blick auf den Ort...            1113   \n",
              "...                                                   ...             ...   \n",
              "165492  Über den Begriff der Geschichte sind geschicht...             623   \n",
              "119798  Paare ist eine komödiantische Kurzfilmreihe, p...             371   \n",
              "17073   Die Burg in Forchheim (auch Kaiserpfalz genann...             528   \n",
              "164245  Zyklon Nancy war der zweite in einer Serie von...            1235   \n",
              "8906    Schloss Georgium, 2006 Die Anhaltische Gemälde...             801   \n",
              "\n",
              "        intro_len_token                                               body  \\\n",
              "101869              244  Das Dokument ''Christliches Zeugnis in einer m...   \n",
              "98960               139  Das Hauptgebäude in der Königinstraße 107 ents...   \n",
              "15832                62  Nördlich von Böhringen befindet sich der Böhri...   \n",
              "50835                86  Anfang der 1970er Jahre realisierten die veran...   \n",
              "7381                171  Die Detonation ereignete sich im Innenstadtbez...   \n",
              "...                 ...                                                ...   \n",
              "165492               87  Die 18 Thesen ''Über den Begriff der Geschicht...   \n",
              "119798               62  Paare versuchen, Probleme in ihrer Beziehung i...   \n",
              "17073                79  Vom 9. bis frühen 11. Jahrhundert existierte i...   \n",
              "164245              188  Zugbahn von Nancy Zyklon Nancy entstand am 10....   \n",
              "8906                112  Innenansicht des Palais Reina, um 1930 Mit der...   \n",
              "\n",
              "        body_len_char  body_len_token  \\\n",
              "101869          16046            2483   \n",
              "98960           10931            1703   \n",
              "15832            4111             757   \n",
              "50835           12312            1846   \n",
              "7381            10334            1609   \n",
              "...               ...             ...   \n",
              "165492           9338            1535   \n",
              "119798           3150             566   \n",
              "17073            6610            1001   \n",
              "164245           8245            1293   \n",
              "8906             7241            1131   \n",
              "\n",
              "                                                 gold_kws  num_kws_lemmas  \\\n",
              "101869  {'World Evangelical Alliance': {'World Evangel...              17   \n",
              "98960   {'München': {'München': 5}, 'Deutschland': {'D...              20   \n",
              "15832   {'Landkreis Konstanz': {'Landkreis Konstanz': ...              11   \n",
              "50835   {'Hsinchu': {'Hsinchu': 3}, 'Integrierter Scha...              13   \n",
              "7381    {'Libanon': {'Libanon': 10, 'libanesischen': 7...              11   \n",
              "...                                                   ...             ...   \n",
              "165492  {'Walter Benjamin': {'Walter Benjamin': 7}, 'Z...              21   \n",
              "119798  {'Uwe Bohm': {'Uwe Bohm': 2}, 'Devid Striesow'...              15   \n",
              "17073   {'Stadtburg': {'Stadtburg': 4}, 'Forchheim': {...              11   \n",
              "164245  {'Cookinseln': {'Cookinseln': 9}, 'Tiefdruckge...              17   \n",
              "8906    {'Gemäldegalerie': {'Gemäldegalerie': 10}, 'He...              10   \n",
              "\n",
              "        num_kws_all                                          noisy_kws  \\\n",
              "101869           17  [MissionRespekt, ChZ, Päpstlichen Rat für den ...   \n",
              "98960            20  [Münchener Rückversicherungs-Gesellschaft Akti...   \n",
              "15832            12  [Böhringen, Bodensees, Radolfzeller Aach, Rado...   \n",
              "50835            13  [Forschungsinstitut für Industrietechnologie o...   \n",
              "7381             12  [Rafiq al-Hariri, Hotel St. Georges, Hariris, ...   \n",
              "...             ...                                                ...   \n",
              "165492           21  [Walter Benjamin, Hitler-Stalin-Paktes, Über d...   \n",
              "119798           15  [Paare, ARTE, Johann Buchholz, Tiphaine Donà, ...   \n",
              "17073            11  [Forchheim, Kaiserpfalz, Oberfranken, Mitteleu...   \n",
              "164245           17  [Nancy, Cookinseln, Olaf, Meena, World Meteoro...   \n",
              "8906             10  [Schloss Georgium, Gemäldegalerie Dessau, Dess...   \n",
              "\n",
              "        num_noisy_kws  \n",
              "101869             26  \n",
              "98960              26  \n",
              "15832              18  \n",
              "50835              18  \n",
              "7381               16  \n",
              "...               ...  \n",
              "165492             26  \n",
              "119798             19  \n",
              "17073              15  \n",
              "164245             22  \n",
              "8906               17  \n",
              "\n",
              "[1035 rows x 12 columns]"
            ]
          },
          "execution_count": 23,
          "metadata": {},
          "output_type": "execute_result"
        }
      ],
      "source": [
        "train_df"
      ]
    },
    {
      "attachments": {},
      "cell_type": "markdown",
      "metadata": {
        "id": "1_aQ-OrPp-7t"
      },
      "source": [
        "# Example: Play with the data \n"
      ]
    },
    {
      "cell_type": "code",
      "execution_count": 24,
      "metadata": {
        "id": "913BdFXViMqj"
      },
      "outputs": [],
      "source": [
        "train_data =  [(idx, row.get('title'),list(row.get('gold_kws').keys()),row.get('noisy_kws') )for idx, row in train_df.iterrows()]\n",
        "test_data =  [(idx, row.get('title'),list(row.get('gold_kws').keys()),row.get('noisy_kws') )for idx, row in test_df.iterrows()]\n"
      ]
    },
    {
      "cell_type": "code",
      "execution_count": 26,
      "metadata": {
        "colab": {
          "base_uri": "https://localhost:8080/"
        },
        "id": "YowW9AiZp92x",
        "outputId": "24768763-b0ae-4e62-b1e8-a847f7c3c255"
      },
      "outputs": [
        {
          "name": "stdout",
          "output_type": "stream",
          "text": [
            "0.8943820224719101 0.018850944915454932 0.036923647833750815\n"
          ]
        }
      ],
      "source": [
        "##\n",
        "# Import necessary metrics from sklearn for evaluation purposes\n",
        "from sklearn.metrics import precision_score, recall_score, accuracy_score, f1_score, classification_report\n",
        "# Import combinations from itertools to generate all possible pairs\n",
        "from itertools import combinations\n",
        "# Import fuzz from thefuzz for string matching\n",
        "from thefuzz import fuzz\n",
        "\n",
        "# Initialize empty lists for true labels and predicted labels\n",
        "y =[]\n",
        "y_pred = []\n",
        "\n",
        "# Loop through all the items in the training data\n",
        "for tr_data in train_data:\n",
        "\n",
        "    # Get the last item in tr_data as keywords_noisy\n",
        "    keywords_noisy = tr_data[-1]\n",
        "    # Get the second last item in tr_data as expected_labels\n",
        "    expected_labels = tr_data[-2]\n",
        "    # Find the symmetric difference between keywords_noisy and expected_labels\n",
        "    noise = list(set(keywords_noisy) ^ set(expected_labels))\n",
        "\n",
        "    # Create tuples of noise and corresponding label 0, then convert it to a dictionary\n",
        "    noise_list = list(zip(noise, [0]*len(noise)))\n",
        "    # Create tuples of expected_labels and corresponding label 1, then convert it to a dictionary\n",
        "    gold_list = list(zip(expected_labels, [1]*len(expected_labels)))\n",
        "    # Merge two dictionaries into one: Y_TRUE\n",
        "    Y_TRUE = {**dict(noise_list), **dict(gold_list)}\n",
        "\n",
        "    # Generate all possible pairs from keywords_noisy and sort them by length\n",
        "    keywords_noisy_pairs = [tuple(sorted(t, key=len)) for t in combinations(keywords_noisy, 2)]\n",
        "\n",
        "    # Initialize empty dictionary for storing predicted labels\n",
        "    y_pred_labels = {}\n",
        "    processed_keywords = []\n",
        "\n",
        "    # Loop through all pairs in keywords_noisy_pairs\n",
        "    for key_a, key_b in keywords_noisy_pairs:\n",
        "        # Calculate similarity between two strings in a pair\n",
        "        similarity = fuzz.ratio(key_a, key_b)\n",
        "        # If similarity is greater or equal to 95, assign label 1 to key_a\n",
        "        if similarity >= 95:\n",
        "            y_pred_labels[key_a] = 1\n",
        "\n",
        "    # For all unique elements in keywords_noisy that are not already in y_pred_labels, assign label 0\n",
        "    y_pred_labels.update({key_y: 0 for key_y in set(keywords_noisy) - y_pred_labels.keys()})\n",
        "\n",
        "    # Create a list of tuples containing true labels and predicted labels\n",
        "    y_true_pred_labs = [(true_lab, y_pred_labels[true_key]) for true_key, true_lab in Y_TRUE.items()]\n",
        "    # Unpack y_true_pred_labs into two separate lists: y_ and y_pred_\n",
        "    y_ , y_pred_ = zip(*y_true_pred_labs)\n",
        "\n",
        "    # Extend the overall lists of true labels and predicted labels\n",
        "    y.extend(y_)\n",
        "    y_pred.extend(y_pred_)\n",
        "\n",
        "# Print precision, recall and F1-score of the model\n",
        "print(precision_score(y, y_pred), recall_score(y, y_pred),f1_score(y, y_pred))\n"
      ]
    },
    {
      "cell_type": "code",
      "execution_count": null,
      "metadata": {
        "id": "acCdF3S_rkw2"
      },
      "outputs": [],
      "source": []
    }
  ],
  "metadata": {
    "colab": {
      "collapsed_sections": [
        "-bG1MFQgXTzX",
        "0cSodQhfV4Wd",
        "r7MwhTNZWOoi"
      ],
      "provenance": [],
      "toc_visible": true
    },
    "kernelspec": {
      "display_name": "Python 3",
      "name": "python3"
    },
    "language_info": {
      "codemirror_mode": {
        "name": "ipython",
        "version": 3
      },
      "file_extension": ".py",
      "mimetype": "text/x-python",
      "name": "python",
      "nbconvert_exporter": "python",
      "pygments_lexer": "ipython3",
      "version": "3.9.6"
    }
  },
  "nbformat": 4,
  "nbformat_minor": 0
}
